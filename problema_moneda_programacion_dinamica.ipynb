{
  "nbformat": 4,
  "nbformat_minor": 0,
  "metadata": {
    "colab": {
      "provenance": [],
      "authorship_tag": "ABX9TyNH6w9O15MMyH08RZMq2S/b"
    },
    "kernelspec": {
      "name": "python3",
      "display_name": "Python 3"
    },
    "language_info": {
      "name": "python"
    }
  },
  "cells": [
    {
      "cell_type": "code",
      "execution_count": null,
      "metadata": {
        "colab": {
          "base_uri": "https://localhost:8080/"
        },
        "id": "jWGLjD9zwyB1",
        "outputId": "315a04e5-ae92-443b-a0a2-6187daee2b47"
      },
      "outputs": [
        {
          "output_type": "stream",
          "name": "stdout",
          "text": [
            "Monedas usadas:\n",
            "2\n",
            "5\n",
            "10\n",
            "10\n",
            "10\n",
            "10\n",
            "10\n",
            "10\n",
            "10\n",
            "10\n",
            "Número mínimo de monedas a utilizar: 10\n"
          ]
        }
      ],
      "source": [
        "#codigo del problema de la moneda\n",
        "def min_monedas(denominaciones, total):\n",
        "    dp = [float('inf')] * (total + 1)\n",
        "    dp[0] = 0\n",
        "    monedas_usadas = [[] for _ in range(total + 1)]\n",
        "\n",
        "    #iteracion para determinar\n",
        "    for moneda in denominaciones:\n",
        "        for j in range(moneda, total + 1):\n",
        "            if dp[j] > dp[j - moneda] + 1:\n",
        "                dp[j] = dp[j - moneda] + 1\n",
        "                monedas_usadas[j] = monedas_usadas[j - moneda] + [moneda]\n",
        "\n",
        "    if dp[total] != float('inf'):\n",
        "        print(\"Monedas usadas:\")\n",
        "        for moneda in monedas_usadas[total]:\n",
        "            print(f\"{moneda}\")\n",
        "        return dp[total]\n",
        "    else:\n",
        "        return -1\n",
        "\n",
        "denominaciones = [1, 2, 5, 10]\n",
        "total = 87 #jugar con este numero\n",
        "print(f\"Número mínimo de monedas a utilizar: {min_monedas(denominaciones, total)}\")"
      ]
    }
  ]
}